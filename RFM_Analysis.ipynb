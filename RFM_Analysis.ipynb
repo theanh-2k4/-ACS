{
 "cells": [
  {
   "cell_type": "code",
   "execution_count": 20,
   "metadata": {},
   "outputs": [],
   "source": [
    "import pandas as pd \n",
    "import numpy as np\n",
    "import seaborn as sns\n",
    "import matplotlib.pyplot as plt\n",
    "import datetime as dt\n",
    "import matplotlib.pyplot as plt\n",
    "import seaborn as sns\n",
    "import warnings\n",
    "warnings.filterwarnings(\"ignore\")\n",
    "import geopandas as gpd\n",
    "\n",
    "import geodatasets\n"
   ]
  },
  {
   "cell_type": "code",
   "execution_count": 21,
   "metadata": {},
   "outputs": [
    {
     "name": "stdout",
     "output_type": "stream",
     "text": [
      "<class 'pandas.core.frame.DataFrame'>\n",
      "RangeIndex: 280452 entries, 0 to 280451\n",
      "Data columns (total 10 columns):\n",
      " #   Column       Non-Null Count   Dtype  \n",
      "---  ------       --------------   -----  \n",
      " 0   InvoiceNo    280452 non-null  int64  \n",
      " 1   StockCode    280452 non-null  object \n",
      " 2   Description  280452 non-null  object \n",
      " 3   Quantity     280452 non-null  int64  \n",
      " 4   InvoiceDate  280452 non-null  object \n",
      " 5   UnitPrice    280452 non-null  float64\n",
      " 6   CustomerID   280452 non-null  int64  \n",
      " 7   Country      280452 non-null  object \n",
      " 8   TotalPrice   280452 non-null  float64\n",
      " 9   YearMonth    280452 non-null  object \n",
      "dtypes: float64(2), int64(3), object(5)\n",
      "memory usage: 21.4+ MB\n",
      "None\n",
      "-----------------------------------------------------------------------------------------------------------------------------\n"
     ]
    },
    {
     "data": {
      "text/html": [
       "<div>\n",
       "<style scoped>\n",
       "    .dataframe tbody tr th:only-of-type {\n",
       "        vertical-align: middle;\n",
       "    }\n",
       "\n",
       "    .dataframe tbody tr th {\n",
       "        vertical-align: top;\n",
       "    }\n",
       "\n",
       "    .dataframe thead th {\n",
       "        text-align: right;\n",
       "    }\n",
       "</style>\n",
       "<table border=\"1\" class=\"dataframe\">\n",
       "  <thead>\n",
       "    <tr style=\"text-align: right;\">\n",
       "      <th></th>\n",
       "      <th>InvoiceNo</th>\n",
       "      <th>StockCode</th>\n",
       "      <th>Description</th>\n",
       "      <th>Quantity</th>\n",
       "      <th>InvoiceDate</th>\n",
       "      <th>UnitPrice</th>\n",
       "      <th>CustomerID</th>\n",
       "      <th>Country</th>\n",
       "      <th>TotalPrice</th>\n",
       "      <th>YearMonth</th>\n",
       "    </tr>\n",
       "  </thead>\n",
       "  <tbody>\n",
       "    <tr>\n",
       "      <th>0</th>\n",
       "      <td>536365</td>\n",
       "      <td>85123A</td>\n",
       "      <td>white hanging heart t-light holder</td>\n",
       "      <td>6</td>\n",
       "      <td>12/1/2010 8:26</td>\n",
       "      <td>2.55</td>\n",
       "      <td>17850</td>\n",
       "      <td>United Kingdom</td>\n",
       "      <td>15.30</td>\n",
       "      <td>2010-12</td>\n",
       "    </tr>\n",
       "    <tr>\n",
       "      <th>1</th>\n",
       "      <td>536365</td>\n",
       "      <td>71053</td>\n",
       "      <td>white metal lantern</td>\n",
       "      <td>6</td>\n",
       "      <td>12/1/2010 8:26</td>\n",
       "      <td>3.39</td>\n",
       "      <td>17850</td>\n",
       "      <td>United Kingdom</td>\n",
       "      <td>20.34</td>\n",
       "      <td>2010-12</td>\n",
       "    </tr>\n",
       "    <tr>\n",
       "      <th>2</th>\n",
       "      <td>536365</td>\n",
       "      <td>84406B</td>\n",
       "      <td>cream cupid hearts coat hanger</td>\n",
       "      <td>8</td>\n",
       "      <td>12/1/2010 8:26</td>\n",
       "      <td>2.75</td>\n",
       "      <td>17850</td>\n",
       "      <td>United Kingdom</td>\n",
       "      <td>22.00</td>\n",
       "      <td>2010-12</td>\n",
       "    </tr>\n",
       "    <tr>\n",
       "      <th>3</th>\n",
       "      <td>536365</td>\n",
       "      <td>84029G</td>\n",
       "      <td>knitted union flag hot water bottle</td>\n",
       "      <td>6</td>\n",
       "      <td>12/1/2010 8:26</td>\n",
       "      <td>3.39</td>\n",
       "      <td>17850</td>\n",
       "      <td>United Kingdom</td>\n",
       "      <td>20.34</td>\n",
       "      <td>2010-12</td>\n",
       "    </tr>\n",
       "    <tr>\n",
       "      <th>4</th>\n",
       "      <td>536365</td>\n",
       "      <td>84029E</td>\n",
       "      <td>red woolly hottie white heart.</td>\n",
       "      <td>6</td>\n",
       "      <td>12/1/2010 8:26</td>\n",
       "      <td>3.39</td>\n",
       "      <td>17850</td>\n",
       "      <td>United Kingdom</td>\n",
       "      <td>20.34</td>\n",
       "      <td>2010-12</td>\n",
       "    </tr>\n",
       "  </tbody>\n",
       "</table>\n",
       "</div>"
      ],
      "text/plain": [
       "   InvoiceNo StockCode                          Description  Quantity  \\\n",
       "0     536365    85123A   white hanging heart t-light holder         6   \n",
       "1     536365     71053                  white metal lantern         6   \n",
       "2     536365    84406B       cream cupid hearts coat hanger         8   \n",
       "3     536365    84029G  knitted union flag hot water bottle         6   \n",
       "4     536365    84029E       red woolly hottie white heart.         6   \n",
       "\n",
       "      InvoiceDate  UnitPrice  CustomerID         Country  TotalPrice YearMonth  \n",
       "0  12/1/2010 8:26       2.55       17850  United Kingdom       15.30   2010-12  \n",
       "1  12/1/2010 8:26       3.39       17850  United Kingdom       20.34   2010-12  \n",
       "2  12/1/2010 8:26       2.75       17850  United Kingdom       22.00   2010-12  \n",
       "3  12/1/2010 8:26       3.39       17850  United Kingdom       20.34   2010-12  \n",
       "4  12/1/2010 8:26       3.39       17850  United Kingdom       20.34   2010-12  "
      ]
     },
     "execution_count": 21,
     "metadata": {},
     "output_type": "execute_result"
    }
   ],
   "source": [
    "data =pd.read_csv(r\"C:/Users/thean/Documents/DACS/-ACS/Online Retail Cleaned Data.csv\")\n",
    "print(data.info())\n",
    "print(\"-------------------------\"*5)\n",
    "data.head()"
   ]
  },
  {
   "cell_type": "code",
   "execution_count": 22,
   "metadata": {},
   "outputs": [
    {
     "name": "stdout",
     "output_type": "stream",
     "text": [
      "<class 'pandas.core.frame.DataFrame'>\n",
      "RangeIndex: 280452 entries, 0 to 280451\n",
      "Data columns (total 10 columns):\n",
      " #   Column       Non-Null Count   Dtype         \n",
      "---  ------       --------------   -----         \n",
      " 0   InvoiceNo    280452 non-null  object        \n",
      " 1   StockCode    280452 non-null  object        \n",
      " 2   Description  280452 non-null  object        \n",
      " 3   Quantity     280452 non-null  int64         \n",
      " 4   InvoiceDate  280452 non-null  datetime64[ns]\n",
      " 5   UnitPrice    280452 non-null  float64       \n",
      " 6   CustomerID   280452 non-null  object        \n",
      " 7   Country      280452 non-null  object        \n",
      " 8   TotalPrice   280452 non-null  float64       \n",
      " 9   YearMonth    280452 non-null  object        \n",
      "dtypes: datetime64[ns](1), float64(2), int64(1), object(6)\n",
      "memory usage: 21.4+ MB\n"
     ]
    }
   ],
   "source": [
    "# Định dạng lại cột thời gian và mã khách hàng\n",
    "data['InvoiceDate'] = pd.to_datetime(data['InvoiceDate'])\n",
    "data['InvoiceNo'] = data['InvoiceNo'].astype(str)\n",
    "data['CustomerID'] = data['CustomerID'].astype(str)\n",
    "data.info()"
   ]
  },
  {
   "cell_type": "code",
   "execution_count": 23,
   "metadata": {},
   "outputs": [
    {
     "data": {
      "text/plain": [
       "Country\n",
       "United Kingdom          253157\n",
       "Germany                   6275\n",
       "France                    5995\n",
       "EIRE                      4373\n",
       "Spain                     1681\n",
       "Belgium                   1395\n",
       "Switzerland               1183\n",
       "Portugal                  1054\n",
       "Norway                     602\n",
       "Netherlands                498\n",
       "Italy                      480\n",
       "Channel Islands            435\n",
       "Finland                    413\n",
       "Australia                  374\n",
       "Cyprus                     372\n",
       "Austria                    273\n",
       "Denmark                    232\n",
       "Poland                     213\n",
       "Sweden                     201\n",
       "Unspecified                157\n",
       "Israel                     153\n",
       "Iceland                    138\n",
       "USA                        130\n",
       "Singapore                  109\n",
       "Canada                     100\n",
       "Japan                       93\n",
       "Greece                      91\n",
       "Malta                       64\n",
       "United Arab Emirates        44\n",
       "European Community          35\n",
       "RSA                         34\n",
       "Lithuania                   25\n",
       "Lebanon                     24\n",
       "Brazil                      18\n",
       "Czech Republic              16\n",
       "Saudi Arabia                 8\n",
       "Bahrain                      7\n",
       "Name: count, dtype: int64"
      ]
     },
     "execution_count": 23,
     "metadata": {},
     "output_type": "execute_result"
    }
   ],
   "source": [
    "data.Country.value_counts()"
   ]
  },
  {
   "cell_type": "code",
   "execution_count": 24,
   "metadata": {},
   "outputs": [
    {
     "name": "stdout",
     "output_type": "stream",
     "text": [
      "2011-12-09 12:50:00\n"
     ]
    }
   ],
   "source": [
    "print(data['InvoiceDate'].max())\n"
   ]
  },
  {
   "cell_type": "markdown",
   "metadata": {},
   "source": [
    "Ngày mua hàng gần nhất là 9/12/2011 vậy nên ta sẽ chọn ngày đầu năm 2012 làm mốc để tính cột recency( lần mua hàng gần nhất của khách hàng)"
   ]
  },
  {
   "cell_type": "code",
   "execution_count": 25,
   "metadata": {},
   "outputs": [
    {
     "data": {
      "text/html": [
       "<div>\n",
       "<style scoped>\n",
       "    .dataframe tbody tr th:only-of-type {\n",
       "        vertical-align: middle;\n",
       "    }\n",
       "\n",
       "    .dataframe tbody tr th {\n",
       "        vertical-align: top;\n",
       "    }\n",
       "\n",
       "    .dataframe thead th {\n",
       "        text-align: right;\n",
       "    }\n",
       "</style>\n",
       "<table border=\"1\" class=\"dataframe\">\n",
       "  <thead>\n",
       "    <tr style=\"text-align: right;\">\n",
       "      <th></th>\n",
       "      <th>InvoiceDate</th>\n",
       "    </tr>\n",
       "    <tr>\n",
       "      <th>CustomerID</th>\n",
       "      <th></th>\n",
       "    </tr>\n",
       "  </thead>\n",
       "  <tbody>\n",
       "    <tr>\n",
       "      <th>12347</th>\n",
       "      <td>24</td>\n",
       "    </tr>\n",
       "    <tr>\n",
       "      <th>12348</th>\n",
       "      <td>270</td>\n",
       "    </tr>\n",
       "    <tr>\n",
       "      <th>12349</th>\n",
       "      <td>40</td>\n",
       "    </tr>\n",
       "    <tr>\n",
       "      <th>12350</th>\n",
       "      <td>332</td>\n",
       "    </tr>\n",
       "    <tr>\n",
       "      <th>12352</th>\n",
       "      <td>58</td>\n",
       "    </tr>\n",
       "    <tr>\n",
       "      <th>...</th>\n",
       "      <td>...</td>\n",
       "    </tr>\n",
       "    <tr>\n",
       "      <th>18280</th>\n",
       "      <td>299</td>\n",
       "    </tr>\n",
       "    <tr>\n",
       "      <th>18281</th>\n",
       "      <td>202</td>\n",
       "    </tr>\n",
       "    <tr>\n",
       "      <th>18282</th>\n",
       "      <td>29</td>\n",
       "    </tr>\n",
       "    <tr>\n",
       "      <th>18283</th>\n",
       "      <td>25</td>\n",
       "    </tr>\n",
       "    <tr>\n",
       "      <th>18287</th>\n",
       "      <td>64</td>\n",
       "    </tr>\n",
       "  </tbody>\n",
       "</table>\n",
       "<p>4140 rows × 1 columns</p>\n",
       "</div>"
      ],
      "text/plain": [
       "            InvoiceDate\n",
       "CustomerID             \n",
       "12347                24\n",
       "12348               270\n",
       "12349                40\n",
       "12350               332\n",
       "12352                58\n",
       "...                 ...\n",
       "18280               299\n",
       "18281               202\n",
       "18282                29\n",
       "18283                25\n",
       "18287                64\n",
       "\n",
       "[4140 rows x 1 columns]"
      ]
     },
     "execution_count": 25,
     "metadata": {},
     "output_type": "execute_result"
    }
   ],
   "source": [
    "#tính rencencyrencency\n",
    "date = '2012-01-01'\n",
    "date = pd.to_datetime(date)\n",
    "\n",
    "recency=data.groupby([\"CustomerID\"]).agg({\"InvoiceDate\": lambda x: ((date - x.max()).days)})\n",
    "recency"
   ]
  },
  {
   "cell_type": "markdown",
   "metadata": {},
   "source": [
    "nhóm dữ liệu theo CustomerID lấy thời gian làm mốc trừ cho thời gian mua hàng gần nhất trong cột invoiceDate để tính recency"
   ]
  },
  {
   "cell_type": "code",
   "execution_count": 26,
   "metadata": {},
   "outputs": [
    {
     "data": {
      "text/html": [
       "<div>\n",
       "<style scoped>\n",
       "    .dataframe tbody tr th:only-of-type {\n",
       "        vertical-align: middle;\n",
       "    }\n",
       "\n",
       "    .dataframe tbody tr th {\n",
       "        vertical-align: top;\n",
       "    }\n",
       "\n",
       "    .dataframe thead th {\n",
       "        text-align: right;\n",
       "    }\n",
       "</style>\n",
       "<table border=\"1\" class=\"dataframe\">\n",
       "  <thead>\n",
       "    <tr style=\"text-align: right;\">\n",
       "      <th></th>\n",
       "      <th>InvoiceNo</th>\n",
       "    </tr>\n",
       "    <tr>\n",
       "      <th>CustomerID</th>\n",
       "      <th></th>\n",
       "    </tr>\n",
       "  </thead>\n",
       "  <tbody>\n",
       "    <tr>\n",
       "      <th>12347</th>\n",
       "      <td>7</td>\n",
       "    </tr>\n",
       "    <tr>\n",
       "      <th>12348</th>\n",
       "      <td>3</td>\n",
       "    </tr>\n",
       "    <tr>\n",
       "      <th>12349</th>\n",
       "      <td>1</td>\n",
       "    </tr>\n",
       "    <tr>\n",
       "      <th>12350</th>\n",
       "      <td>1</td>\n",
       "    </tr>\n",
       "    <tr>\n",
       "      <th>12352</th>\n",
       "      <td>7</td>\n",
       "    </tr>\n",
       "  </tbody>\n",
       "</table>\n",
       "</div>"
      ],
      "text/plain": [
       "            InvoiceNo\n",
       "CustomerID           \n",
       "12347               7\n",
       "12348               3\n",
       "12349               1\n",
       "12350               1\n",
       "12352               7"
      ]
     },
     "execution_count": 26,
     "metadata": {},
     "output_type": "execute_result"
    }
   ],
   "source": [
    "#tính frequency \n",
    "freq = data.drop_duplicates(subset=\"InvoiceNo\").groupby([\"CustomerID\"])[[\"InvoiceNo\"]].count()\n",
    "freq.head()"
   ]
  },
  {
   "cell_type": "markdown",
   "metadata": {},
   "source": [
    "loại bỏ các dòng có mã hóa đơn trùng lặp, nhóm dữ liệuliệu theo CustomerID và đếm số hóa đơn khác nhau để tính frequency"
   ]
  },
  {
   "cell_type": "code",
   "execution_count": 27,
   "metadata": {},
   "outputs": [
    {
     "data": {
      "text/html": [
       "<div>\n",
       "<style scoped>\n",
       "    .dataframe tbody tr th:only-of-type {\n",
       "        vertical-align: middle;\n",
       "    }\n",
       "\n",
       "    .dataframe tbody tr th {\n",
       "        vertical-align: top;\n",
       "    }\n",
       "\n",
       "    .dataframe thead th {\n",
       "        text-align: right;\n",
       "    }\n",
       "</style>\n",
       "<table border=\"1\" class=\"dataframe\">\n",
       "  <thead>\n",
       "    <tr style=\"text-align: right;\">\n",
       "      <th></th>\n",
       "      <th>TotalPrice</th>\n",
       "    </tr>\n",
       "    <tr>\n",
       "      <th>CustomerID</th>\n",
       "      <th></th>\n",
       "    </tr>\n",
       "  </thead>\n",
       "  <tbody>\n",
       "    <tr>\n",
       "      <th>12347</th>\n",
       "      <td>2664.14</td>\n",
       "    </tr>\n",
       "    <tr>\n",
       "      <th>12348</th>\n",
       "      <td>90.20</td>\n",
       "    </tr>\n",
       "    <tr>\n",
       "      <th>12349</th>\n",
       "      <td>710.20</td>\n",
       "    </tr>\n",
       "    <tr>\n",
       "      <th>12350</th>\n",
       "      <td>294.40</td>\n",
       "    </tr>\n",
       "    <tr>\n",
       "      <th>12352</th>\n",
       "      <td>711.09</td>\n",
       "    </tr>\n",
       "  </tbody>\n",
       "</table>\n",
       "</div>"
      ],
      "text/plain": [
       "            TotalPrice\n",
       "CustomerID            \n",
       "12347          2664.14\n",
       "12348            90.20\n",
       "12349           710.20\n",
       "12350           294.40\n",
       "12352           711.09"
      ]
     },
     "execution_count": 27,
     "metadata": {},
     "output_type": "execute_result"
    }
   ],
   "source": [
    "#tính monetary\n",
    "money = data.groupby([\"CustomerID\"])[[\"TotalPrice\"]].sum()\n",
    "money.head()"
   ]
  },
  {
   "cell_type": "markdown",
   "metadata": {},
   "source": [
    "dựa vào cột TotalPrice đã tính trước đó ta tính monetary bằng tính tổng TotalPrice của khách hàng "
   ]
  },
  {
   "cell_type": "code",
   "execution_count": 28,
   "metadata": {},
   "outputs": [
    {
     "name": "stdout",
     "output_type": "stream",
     "text": [
      "            Recency  Frequency  Monetary\n",
      "CustomerID                              \n",
      "12347            24          7   2664.14\n",
      "12348           270          3     90.20\n",
      "12349            40          1    710.20\n",
      "12350           332          1    294.40\n",
      "12352            58          7    711.09\n",
      "----------------------------------------\n",
      "(4140, 3)\n"
     ]
    }
   ],
   "source": [
    "recency.columns = [\"Recency\"]\n",
    "freq.columns = [\"Frequency\"]\n",
    "money.columns = [\"Monetary\"]\n",
    "RFM_data = pd.concat([recency, freq, money], axis=1)\n",
    "print(RFM_data.head())\n",
    "print(\"--------\"*5)\n",
    "print(RFM_data.shape)\n"
   ]
  },
  {
   "cell_type": "markdown",
   "metadata": {},
   "source": [
    "Ta nối các dataframe lại để tạo dataframe tổng hợp chứa các biến độc lập cần để phân cụm trong mô hình RFM "
   ]
  },
  {
   "cell_type": "code",
   "execution_count": 29,
   "metadata": {},
   "outputs": [],
   "source": [
    "#Chuẩn hóa dữ liệu chuẩn bị xây dựng mô hình\n",
    "from sklearn.preprocessing import StandardScaler\n",
    "scaler = StandardScaler()\n",
    "scaled = scaler.fit_transform(RFM_data)"
   ]
  },
  {
   "cell_type": "code",
   "execution_count": 30,
   "metadata": {},
   "outputs": [
    {
     "name": "stdout",
     "output_type": "stream",
     "text": [
      "[[-0.90333482  0.45049422  1.15172055]\n",
      " [ 1.55734036 -0.13743109 -0.42323634]\n",
      " [-0.74329091 -0.43139375 -0.04386725]\n",
      " ...\n",
      " [-0.8533211  -0.28441242 -0.42762356]\n",
      " [-0.89333208  1.77332616  0.69846015]\n",
      " [-0.50322504 -0.13743109  0.09904475]]\n"
     ]
    }
   ],
   "source": [
    "print(scaled)"
   ]
  },
  {
   "cell_type": "markdown",
   "metadata": {},
   "source": [
    "Để tránh việc mô hình bị chi phối bởi các giá trị lớn hơn ảnh hưởng đến độ chính xác ta chuẩn hóa dữ liệu bằng StandardScaler trước khi xây dựng mô hình phân cụm"
   ]
  },
  {
   "cell_type": "code",
   "execution_count": 31,
   "metadata": {},
   "outputs": [],
   "source": [
    "#chọn số cụm dữ liệu k tối ưu trước khi phân cụm\n",
    "from sklearn.cluster import KMeans \n",
    "inertia = []\n",
    "for i in np.arange(1,11):\n",
    "    kmeans = KMeans(n_clusters=i)\n",
    "    kmeans.fit(scaled)\n",
    "    inertia.append(kmeans.inertia_)"
   ]
  },
  {
   "cell_type": "markdown",
   "metadata": {},
   "source": [
    "Trước khi xây dựng mô hình phân cụm, tiến hành tìm số cụm k tối ưu bằng phương pháp Elbow\n",
    "Chỉ số Inertia hay WCSS (tổng bình phương khoảng cách từ các điểm đến tâm cụm) được dùng để đánh giá chất lượng phân cụm"
   ]
  },
  {
   "cell_type": "code",
   "execution_count": 32,
   "metadata": {},
   "outputs": [
    {
     "data": {
      "image/png": "[encoded data removed]",
      "text/plain": [
       "<Figure size 640x480 with 1 Axes>"
      ]
     },
     "metadata": {},
     "output_type": "display_data"
    }
   ],
   "source": [
    "plt.plot(inertia, marker = 'o', color='lightpink')\n",
    "plt.xlabel(\"Số cụm (k)\")\n",
    "plt.ylabel(\"Inertia\")\n",
    "plt.show()"
   ]
  },
  {
   "cell_type": "markdown",
   "metadata": {},
   "source": [
    "Vẽ biểu đồ elbow tìm k tối ưu \n",
    "Từ biểu đồ trên ta thấy có điểm uốn rõ ràng vậy nên cơ  bản ta chọn k = 4\n"
   ]
  },
  {
   "cell_type": "code",
   "execution_count": 33,
   "metadata": {},
   "outputs": [
    {
     "data": {
      "text/html": [
       "<div>\n",
       "<style scoped>\n",
       "    .dataframe tbody tr th:only-of-type {\n",
       "        vertical-align: middle;\n",
       "    }\n",
       "\n",
       "    .dataframe tbody tr th {\n",
       "        vertical-align: top;\n",
       "    }\n",
       "\n",
       "    .dataframe thead th {\n",
       "        text-align: right;\n",
       "    }\n",
       "</style>\n",
       "<table border=\"1\" class=\"dataframe\">\n",
       "  <thead>\n",
       "    <tr style=\"text-align: right;\">\n",
       "      <th></th>\n",
       "      <th>Recency</th>\n",
       "      <th>Frequency</th>\n",
       "      <th>Monetary</th>\n",
       "      <th>Clusters</th>\n",
       "    </tr>\n",
       "    <tr>\n",
       "      <th>CustomerID</th>\n",
       "      <th></th>\n",
       "      <th></th>\n",
       "      <th></th>\n",
       "      <th></th>\n",
       "    </tr>\n",
       "  </thead>\n",
       "  <tbody>\n",
       "    <tr>\n",
       "      <th>12347</th>\n",
       "      <td>24</td>\n",
       "      <td>7</td>\n",
       "      <td>2664.14</td>\n",
       "      <td>1</td>\n",
       "    </tr>\n",
       "    <tr>\n",
       "      <th>12348</th>\n",
       "      <td>270</td>\n",
       "      <td>3</td>\n",
       "      <td>90.20</td>\n",
       "      <td>2</td>\n",
       "    </tr>\n",
       "    <tr>\n",
       "      <th>12349</th>\n",
       "      <td>40</td>\n",
       "      <td>1</td>\n",
       "      <td>710.20</td>\n",
       "      <td>1</td>\n",
       "    </tr>\n",
       "    <tr>\n",
       "      <th>12350</th>\n",
       "      <td>332</td>\n",
       "      <td>1</td>\n",
       "      <td>294.40</td>\n",
       "      <td>2</td>\n",
       "    </tr>\n",
       "    <tr>\n",
       "      <th>12352</th>\n",
       "      <td>58</td>\n",
       "      <td>7</td>\n",
       "      <td>711.09</td>\n",
       "      <td>1</td>\n",
       "    </tr>\n",
       "    <tr>\n",
       "      <th>12353</th>\n",
       "      <td>226</td>\n",
       "      <td>1</td>\n",
       "      <td>29.30</td>\n",
       "      <td>2</td>\n",
       "    </tr>\n",
       "    <tr>\n",
       "      <th>12354</th>\n",
       "      <td>254</td>\n",
       "      <td>1</td>\n",
       "      <td>504.39</td>\n",
       "      <td>2</td>\n",
       "    </tr>\n",
       "    <tr>\n",
       "      <th>12355</th>\n",
       "      <td>236</td>\n",
       "      <td>1</td>\n",
       "      <td>102.90</td>\n",
       "      <td>2</td>\n",
       "    </tr>\n",
       "    <tr>\n",
       "      <th>12356</th>\n",
       "      <td>267</td>\n",
       "      <td>2</td>\n",
       "      <td>715.76</td>\n",
       "      <td>2</td>\n",
       "    </tr>\n",
       "    <tr>\n",
       "      <th>12357</th>\n",
       "      <td>55</td>\n",
       "      <td>1</td>\n",
       "      <td>2181.06</td>\n",
       "      <td>1</td>\n",
       "    </tr>\n",
       "  </tbody>\n",
       "</table>\n",
       "</div>"
      ],
      "text/plain": [
       "            Recency  Frequency  Monetary  Clusters\n",
       "CustomerID                                        \n",
       "12347            24          7   2664.14         1\n",
       "12348           270          3     90.20         2\n",
       "12349            40          1    710.20         1\n",
       "12350           332          1    294.40         2\n",
       "12352            58          7    711.09         1\n",
       "12353           226          1     29.30         2\n",
       "12354           254          1    504.39         2\n",
       "12355           236          1    102.90         2\n",
       "12356           267          2    715.76         2\n",
       "12357            55          1   2181.06         1"
      ]
     },
     "execution_count": 33,
     "metadata": {},
     "output_type": "execute_result"
    }
   ],
   "source": [
    "#xây dựng mô hình phân cụm với k = 3\n",
    "kmeans = KMeans(n_clusters=4, random_state=42)\n",
    "kmeans.fit(scaled)\n",
    "RFM_data[\"Clusters\"] = (kmeans.labels_ + 1)\n",
    "RFM_data.head(10)\n",
    "\n"
   ]
  },
  {
   "cell_type": "code",
   "execution_count": 34,
   "metadata": {},
   "outputs": [
    {
     "data": {
      "text/html": [
       "<div>\n",
       "<style scoped>\n",
       "    .dataframe tbody tr th:only-of-type {\n",
       "        vertical-align: middle;\n",
       "    }\n",
       "\n",
       "    .dataframe tbody tr th {\n",
       "        vertical-align: top;\n",
       "    }\n",
       "\n",
       "    .dataframe thead th {\n",
       "        text-align: right;\n",
       "    }\n",
       "</style>\n",
       "<table border=\"1\" class=\"dataframe\">\n",
       "  <thead>\n",
       "    <tr style=\"text-align: right;\">\n",
       "      <th></th>\n",
       "      <th>Recency</th>\n",
       "      <th>Frequency</th>\n",
       "      <th>Monetary</th>\n",
       "    </tr>\n",
       "    <tr>\n",
       "      <th>Clusters</th>\n",
       "      <th></th>\n",
       "      <th></th>\n",
       "      <th></th>\n",
       "    </tr>\n",
       "  </thead>\n",
       "  <tbody>\n",
       "    <tr>\n",
       "      <th>1</th>\n",
       "      <td>65.934016</td>\n",
       "      <td>3.324277</td>\n",
       "      <td>637.045763</td>\n",
       "    </tr>\n",
       "    <tr>\n",
       "      <th>2</th>\n",
       "      <td>269.159533</td>\n",
       "      <td>1.495136</td>\n",
       "      <td>233.445769</td>\n",
       "    </tr>\n",
       "    <tr>\n",
       "      <th>3</th>\n",
       "      <td>23.500000</td>\n",
       "      <td>143.750000</td>\n",
       "      <td>32216.927500</td>\n",
       "    </tr>\n",
       "    <tr>\n",
       "      <th>4</th>\n",
       "      <td>35.003650</td>\n",
       "      <td>17.364964</td>\n",
       "      <td>3878.813431</td>\n",
       "    </tr>\n",
       "  </tbody>\n",
       "</table>\n",
       "</div>"
      ],
      "text/plain": [
       "             Recency   Frequency      Monetary\n",
       "Clusters                                      \n",
       "1          65.934016    3.324277    637.045763\n",
       "2         269.159533    1.495136    233.445769\n",
       "3          23.500000  143.750000  32216.927500\n",
       "4          35.003650   17.364964   3878.813431"
      ]
     },
     "execution_count": 34,
     "metadata": {},
     "output_type": "execute_result"
    }
   ],
   "source": [
    "sum = RFM_data.groupby([\"Clusters\"])[[\"Recency\", \"Frequency\", \"Monetary\"]].mean()\n",
    "sum"
   ]
  },
  {
   "cell_type": "markdown",
   "metadata": {},
   "source": [
    "từ bảng tổng kết trên ta có thể thấy các cụm khách hàng bao gồm \n",
    "Cụm 1: nhóm khách hàng mới, nhóm khách hàng này có chi tiêu tương đối, tần xuất cao hơn cụm 2   \n",
    "-> Sử dụng chương trình khuyến mãi nhẹ hoặc tích điểm để giữ chân họ\n",
    "Cụm 2: Khách hàng có nguy cơ rời bỏ, họ đã lâu không mua hàng, tuần xuất mua thấp, và chi tiêu ít nhất trong 3 cụm\n",
    "->  Gửi email marketing, giảm giá đặc biệt để lôi kéo họ quay trở lại\n",
    "Cụm 3: Nhóm khách hàng vip, tuần xuất mua nhiều, chi tiêu vượt trội \n",
    "-> Dùng các chương trình khách hàng VIP, ưu đãi đặc biệt, chăm sóc riêng để giữ chân họ\n",
    "Cụm 4: Nhóm khách hàng trung bình, tuần xuất mua ổn, chi tiêu cao\n",
    "-> Dùng chương trình tích điểm, các khuyến mãi tốt để giữ chân họ"
   ]
  },
  {
   "cell_type": "markdown",
   "metadata": {},
   "source": [
    "chọn k bằng silhouette scorescore"
   ]
  },
  {
   "cell_type": "code",
   "execution_count": 35,
   "metadata": {},
   "outputs": [
    {
     "name": "stdout",
     "output_type": "stream",
     "text": [
      "Silhouette Score for k=2: 0.5149\n",
      "Silhouette Score for k=3: 0.5286\n",
      "Silhouette Score for k=4: 0.5775\n",
      "Silhouette Score for k=5: 0.3646\n",
      "Silhouette Score for k=6: 0.4733\n",
      "Silhouette Score for k=7: 0.4691\n",
      "Silhouette Score for k=8: 0.4640\n",
      "Silhouette Score for k=9: 0.4291\n",
      "Silhouette Score for k=10: 0.3796\n"
     ]
    }
   ],
   "source": [
    "from sklearn.metrics import silhouette_score\n",
    "silhouette_scores = []\n",
    "\n",
    "for k in range(2, 11):\n",
    "    kmeans = KMeans(n_clusters=k, random_state=42)\n",
    "    cluster_labels = kmeans.fit_predict(scaled)\n",
    "    score = silhouette_score(scaled, cluster_labels)\n",
    "    silhouette_scores.append(score)\n",
    "    print(f\"Silhouette Score for k={k}: {score:.4f}\")"
   ]
  },
  {
   "cell_type": "code",
   "execution_count": 36,
   "metadata": {},
   "outputs": [
    {
     "data": {
      "image/png": "[encoded data removed]",
      "text/plain": [
       "<Figure size 640x480 with 1 Axes>"
      ]
     },
     "metadata": {},
     "output_type": "display_data"
    }
   ],
   "source": [
    "plt.plot(range(2, 11), silhouette_scores, marker='o', linestyle='dashed', color='lightcoral')\n",
    "plt.xlabel(\"Số cụm (k)\")\n",
    "plt.ylabel(\"Silhouette Score\")\n",
    "plt.title(\"Chọn k tối ưu bằng Silhouette Score\")\n",
    "plt.show()"
   ]
  }
 ],
 "metadata": {
  "kernelspec": {
   "display_name": "Python 3",
   "language": "python",
   "name": "python3"
  },
  "language_info": {
   "codemirror_mode": {
    "name": "ipython",
    "version": 3
   },
   "file_extension": ".py",
   "mimetype": "text/x-python",
   "name": "python",
   "nbconvert_exporter": "python",
   "pygments_lexer": "ipython3",
   "version": "3.13.1"
  }
 },
 "nbformat": 4,
 "nbformat_minor": 2
}
